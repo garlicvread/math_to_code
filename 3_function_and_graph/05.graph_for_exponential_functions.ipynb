{
 "nbformat": 4,
 "nbformat_minor": 0,
 "metadata": {
  "colab": {
   "name": "05_graph_for_exponential_functions.ipynb",
   "provenance": [],
   "collapsed_sections": [],
   "authorship_tag": "ABX9TyPGNnfg6T3Ek9tS4/3jgv4t"
  },
  "kernelspec": {
   "name": "python3",
   "display_name": "Python 3"
  },
  "language_info": {
   "name": "python"
  }
 },
 "cells": [
  {
   "cell_type": "markdown",
   "source": [
    "The exponential function is a mathematical function denoted by $f(x) = exp(x)$ or $f(x)=e^x$ where the argument x is written as an exponent.<br>\n",
    "\n",
    "In general, the exponential function is a transcendental function that uses the exponent of a power as a variable and defines the domain as the whole real number. It is the inverse of the log function.<br>\n",
    "\n",
    "Therefore, an exponential function is a function given as $y=a^x$ where $a$ is a positive constant and the domain of $x$ is all real numbers.<br>\n",
    "\n",
    "The equation above is an exponential function about constant $a$, because when the equation is given, the value of $x$ is set to one value. In this case, the given function is called an exponential function with base $a$.<br>\n",
    "\n",
    "Here, you will define a class for exponential function which is displayed as $y=a^{x+dx}+c$<br>\n",
    "\n",
    "The arguments $a$, $dx$, and $c$ are equal to $a$, $dx$, and $c$ of $y=a^{x+dx}+c$ which is given above.<br>\n",
    "\n",
    "Graphs of exponential functions can be drawn by while loop."
   ],
   "metadata": {
    "id": "uboH5982mwYR"
   }
  },
  {
   "cell_type": "code",
   "execution_count": 1,
   "metadata": {
    "colab": {
     "base_uri": "https://localhost:8080/",
     "height": 269
    },
    "id": "9cTX5gzemjTp",
    "executionInfo": {
     "status": "ok",
     "timestamp": 1639668025335,
     "user_tz": -540,
     "elapsed": 341,
     "user": {
      "displayName": "Raymond Kim",
      "photoUrl": "https://lh3.googleusercontent.com/a-/AOh14GhN72GJ2Ox5W0H1ZDxI2DB8O1gyJ2m7QyW4biwVhQ=s64",
      "userId": "14271554280568771964"
     }
    },
    "outputId": "3af412c3-61d6-47f3-e602-c110e6eff20a"
   },
   "outputs": [
    {
     "data": {
      "text/plain": "<Figure size 432x288 with 1 Axes>",
      "image/png": "[encoded data removed]"
     },
     "metadata": {
      "needs_background": "light"
     },
     "output_type": "display_data"
    }
   ],
   "source": [
    "\"\"\"To implement the exponential function, you need to use the 'pow' method from 'Math' module.\n",
    "\n",
    "Example: 2^3\n",
    "\n",
    ">>> import math\n",
    ">>> print(math.pow(2, 3))\n",
    "\n",
    "    --> The result is 8.\n",
    "\"\"\"\n",
    "\n",
    "\n",
    "# Variation 1\n",
    "\n",
    "import math\n",
    "from matplotlib import pyplot as plt\n",
    "\n",
    "\n",
    "class ExponentialEquation:\n",
    "    def __init__(self, a, dx=0, c=0, dist=1, size=100):\n",
    "        self.a = a\n",
    "        self.dx = dx\n",
    "        self.c = c\n",
    "        self.dist = dist\n",
    "        self.size = size\n",
    "\n",
    "        x = -size\n",
    "        self.xs = []\n",
    "        self.ys = []\n",
    "\n",
    "        while x < size:\n",
    "            x = x + dist\n",
    "            y = self.a ** (x+self.dx) + self.c\n",
    "            self.xs.append(x)\n",
    "            self.ys.append(y)\n",
    "\n",
    "    def show_graph(self): \n",
    "        plt.plot(self.xs, self.ys, '.')\n",
    "        plt.grid(True)\n",
    "        axes = plt.gca()\n",
    "        axes.set_xlim([-self.size, self.size])\n",
    "        axes.set_ylim([-self.size, self.size])\n",
    "        plt.show()\n",
    "\n",
    "\n",
    "# Generate an exponential function that has arguments a = 2 , dx = 0 , c = 0 , dist = 0.1, size = 10\n",
    "# then display the graph via 'show_graph' method.\n",
    "ExponentialEquation(2, 0, 0, 0.1, 10).show_graph()"
   ]
  },
  {
   "cell_type": "code",
   "source": [
    "# Variation 2\n",
    "\n",
    "import math\n",
    "from matplotlib import pyplot as plt\n",
    "\n",
    "class ExponentialEquation:\n",
    "    def __init__(self, a, dx=0, c=0, dist=1, size=100):\n",
    "        self.size = size\n",
    "        self.xs = []\n",
    "        self.ys = []\n",
    "\n",
    "        x = -size\n",
    "\n",
    "        while True:\n",
    "            self.xs.append(x)\n",
    "            self.ys.append(math.pow(a, x+dx) + c)\n",
    "            x += dist\n",
    "\n",
    "            if x > size:\n",
    "                break\n",
    "\n",
    "    def show_graph(self): \n",
    "        plt.plot(self.xs, self.ys, '-')\n",
    "        plt.grid(True)\n",
    "        axes = plt.gca()\n",
    "        axes.set_xlim([-self.size, self.size])\n",
    "        axes.set_ylim([-self.size, self.size])\n",
    "        plt.show()\n",
    "\n",
    "\n",
    "# Generate an exponential function that has arguments a = 3 , dx = 1 , c = 3 , dist = 0.2, size = 10\n",
    "# then display the graph via 'show_graph' method.\n",
    "ExponentialEquation(3, 1, 3, 0.2, 10).show_graph()"
   ],
   "metadata": {
    "colab": {
     "base_uri": "https://localhost:8080/",
     "height": 269
    },
    "id": "X_VihuLxyeUN",
    "executionInfo": {
     "status": "ok",
     "timestamp": 1639668037736,
     "user_tz": -540,
     "elapsed": 288,
     "user": {
      "displayName": "Raymond Kim",
      "photoUrl": "https://lh3.googleusercontent.com/a-/AOh14GhN72GJ2Ox5W0H1ZDxI2DB8O1gyJ2m7QyW4biwVhQ=s64",
      "userId": "14271554280568771964"
     }
    },
    "outputId": "ecaeae53-367c-4dcc-abf6-c684e4ed6566"
   },
   "execution_count": 2,
   "outputs": [
    {
     "data": {
      "text/plain": "<Figure size 432x288 with 1 Axes>",
      "image/png": "[encoded data removed]"
     },
     "metadata": {
      "needs_background": "light"
     },
     "output_type": "display_data"
    }
   ]
  },
  {
   "cell_type": "code",
   "source": [
    "\"\"\"\n",
    "Draw y = 3^x + 5.\n",
    "\"\"\"\n",
    "\n",
    "import math\n",
    "from matplotlib import pyplot as plt\n",
    "\n",
    "\n",
    "class ExponentialEquation:\n",
    "    def __init__(self, a, dx=0, c=0, dist=1, size=100):\n",
    "        self.size = size\n",
    "        self.xs = []\n",
    "        self.ys = []\n",
    "        x = -size\n",
    "\n",
    "        while True:\n",
    "            self.xs.append(x)\n",
    "            self.ys.append(math.pow(a, x+dx) + c)\n",
    "            x += dist\n",
    "\n",
    "            if x > size:\n",
    "                break\n",
    "\n",
    "    def show_graph(self):\n",
    "        plt.grid(True)\n",
    "        axes = plt.gca()\n",
    "        axes.set_xlim([-self.size, self.size])\n",
    "        axes.set_ylim([-self.size, self.size])\n",
    "        plt.plot(self.xs, self.ys, '.')\n",
    "\n",
    "\n",
    "ExponentialEquation(3, dx=0, c=5, dist=0.1, size=10).show_graph()"
   ],
   "metadata": {
    "id": "KsNEzpUMzzpg"
   },
   "execution_count": 6,
   "outputs": [
    {
     "data": {
      "text/plain": "<Figure size 432x288 with 1 Axes>",
      "image/png": "[encoded data removed]"
     },
     "metadata": {
      "needs_background": "light"
     },
     "output_type": "display_data"
    }
   ]
  },
  {
   "cell_type": "code",
   "execution_count": null,
   "outputs": [],
   "source": [],
   "metadata": {
    "collapsed": false,
    "pycharm": {
     "name": "#%%\n"
    }
   }
  }
 ]
}