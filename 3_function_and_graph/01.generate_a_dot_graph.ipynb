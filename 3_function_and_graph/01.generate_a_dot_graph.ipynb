{
 "nbformat": 4,
 "nbformat_minor": 0,
 "metadata": {
  "colab": {
   "name": "01_graph_generation.ipynb",
   "provenance": [],
   "authorship_tag": "ABX9TyNWvioDaX9xjEdnPzm5gKp6"
  },
  "kernelspec": {
   "name": "python3",
   "display_name": "Python 3"
  },
  "language_info": {
   "name": "python"
  }
 },
 "cells": [
  {
   "cell_type": "code",
   "execution_count": 1,
   "metadata": {
    "id": "53rQ-qofjVVN",
    "executionInfo": {
     "status": "ok",
     "timestamp": 1639630622055,
     "user_tz": -540,
     "elapsed": 374,
     "user": {
      "displayName": "Raymond Kim",
      "photoUrl": "https://lh3.googleusercontent.com/a-/AOh14GhN72GJ2Ox5W0H1ZDxI2DB8O1gyJ2m7QyW4biwVhQ=s64",
      "userId": "14271554280568771964"
     }
    },
    "outputId": "fbd2d7a0-a415-4b34-ea1c-cc1060f9ac8d",
    "colab": {
     "base_uri": "https://localhost:8080/",
     "height": 269
    },
    "pycharm": {
     "name": "#%%\n"
    }
   },
   "outputs": [
    {
     "data": {
      "text/plain": "<Figure size 432x288 with 1 Axes>",
      "image/png": "[encoded data removed]"
     },
     "metadata": {
      "needs_background": "light"
     },
     "output_type": "display_data"
    }
   ],
   "source": [
    "import matplotlib.pyplot as plt\n",
    "\n",
    "xs = [0, 1, 2, 3]\n",
    "ys = [0, 2, 4, 6]\n",
    "\n",
    "# Using plot, generate a graph which display the given coordinates as dots.\n",
    "plt.plot(xs, ys, \".\")\n",
    "\n",
    "# Add grid to the graph.\n",
    "plt.grid(True)\n",
    "\n",
    "# Using .gca() store the axis objects to 'axes'.\n",
    "axes = plt.gca()\n",
    "\n",
    "# Usng set_xlim and Set_ylim, declare the range x as -5 to 5, y as -8 to 8.\n",
    "axes.set_xlim([-5, 5])\n",
    "axes.set_ylim([-8, 8])\n",
    "\n",
    "plt.show()\n"
   ]
  },
  {
   "cell_type": "code",
   "source": [],
   "metadata": {
    "id": "bLVxaFKSjV64",
    "pycharm": {
     "name": "#%%\n"
    }
   },
   "execution_count": null,
   "outputs": []
  }
 ]
}