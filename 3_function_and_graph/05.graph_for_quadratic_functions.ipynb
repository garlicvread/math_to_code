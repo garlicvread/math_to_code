{
 "nbformat": 4,
 "nbformat_minor": 0,
 "metadata": {
  "colab": {
   "name": "04_graph_for_quadratic_functions.ipynb",
   "provenance": [],
   "collapsed_sections": [],
   "authorship_tag": "ABX9TyNdWlPuUw0Ls1DfNb42ahrQ"
  },
  "kernelspec": {
   "name": "python3",
   "display_name": "Python 3"
  },
  "language_info": {
   "name": "python"
  }
 },
 "cells": [
  {
   "cell_type": "markdown",
   "source": [
    "## Quadratic function\n",
    "A function is a quadratic function when the function is of two variables. It is the of the form\n",
    "$$ f(x) = ax^2+bx+c $$\n",
    "when ***a***, ***b***, and ***c*** are constants and `a≠0`.<br><br>\n",
    "\n",
    "The quadratic function here gets 5 elements while generating a graph.\n",
    "\n",
    "- **a**, **b**, **c** are equal to the **a**, **b**, **c** from the function\n",
    "$$ y = ax^2 + bx + c $$<br><br>\n",
    "\n",
    "\n",
    "A quadratic function also can be produced by while loop just as a linear function. Here is how to:\n",
    "1. If you have ***x*** coordinates then you can get the ***y*** coordinates through calculation of the equation above.<br>\n",
    "2. Set the ***x*** coordinates as the minimum value of the graph range, then increase ***x*** value by the value of ***dist*** and calculate ***y*** coordinates.<br>\n",
    "3. Store ***x*** and ***y*** coordinates to the list.<br>\n",
    "4. When ***x*** coordinates exceeds the maximum value of the graph range, break the while loop."
   ],
   "metadata": {
    "id": "IBm5XDcAcoGH",
    "pycharm": {
     "name": "#%% md\n"
    }
   }
  },
  {
   "cell_type": "code",
   "execution_count": 1,
   "metadata": {
    "colab": {
     "base_uri": "https://localhost:8080/",
     "height": 269
    },
    "id": "GGfaMrtkcZGe",
    "executionInfo": {
     "status": "ok",
     "timestamp": 1639664078348,
     "user_tz": -540,
     "elapsed": 311,
     "user": {
      "displayName": "Raymond Kim",
      "photoUrl": "https://lh3.googleusercontent.com/a-/AOh14GhN72GJ2Ox5W0H1ZDxI2DB8O1gyJ2m7QyW4biwVhQ=s64",
      "userId": "14271554280568771964"
     }
    },
    "outputId": "f4cf1344-d705-46ac-efb0-18801bf77a6a",
    "pycharm": {
     "name": "#%%\n"
    }
   },
   "outputs": [
    {
     "data": {
      "text/plain": "<Figure size 640x480 with 1 Axes>",
      "image/png": "[encoded data removed]"
     },
     "metadata": {},
     "output_type": "display_data"
    }
   ],
   "source": [
    "from matplotlib import pyplot as plt\n",
    "\"\"\"\n",
    "### Code from others ###\n",
    "\n",
    "class QuadraticEquation:\n",
    "    def __init__(self, a, b, c, dist=1, size=100):\n",
    "        self.size = size\n",
    "        self.xs = []\n",
    "        self.ys = []\n",
    "        \n",
    "        x = -size\n",
    "        \n",
    "        while True:\n",
    "            self.xs.append(x)\n",
    "            self.ys.append((a * (x * x)) + (b * x) + c)\n",
    "            x += dist\n",
    "            if x > size:\n",
    "                break\n",
    "\"\"\"\n",
    "\n",
    "\n",
    "# Declare QuadraticEquation that returns a graph for given quadratic function.\n",
    "class QuadraticEquation:\n",
    "    def __init__(self, a, b, c, dist=1, size=100):\n",
    "        self.a = a\n",
    "        self.b = b\n",
    "        self.c = c\n",
    "        self.dist = dist\n",
    "        self.size = size\n",
    "        self.xs = []\n",
    "        self.ys = []\n",
    "        \n",
    "        x = -size\n",
    "\n",
    "        while x < size:\n",
    "            y = self.a*x**2 + self.b*x + self.c\n",
    "            x = x+dist\n",
    "            self.xs.append(x)\n",
    "            self.ys.append(y)\n",
    "            \n",
    "            \n",
    "    def show_graph(self): \n",
    "        plt.plot(self.xs, self.ys, '-')  # line graph option\n",
    "        plt.grid(True)\n",
    "        axes = plt.gca()\n",
    "        axes.set_xlim([-self.size, self.size])\n",
    "        axes.set_ylim([-self.size, self.size])\n",
    "        plt.show()\n",
    "\n",
    "\n",
    "# Let a = 1, b = 0 , c = 0, dist = 0.1, size = 10\n",
    "# Show the graph using show-graph method.\n",
    "QuadraticEquation(-2, 3, 4, 0.1, 10).show_graph()\n"
   ]
  },
  {
   "cell_type": "code",
   "source": [],
   "metadata": {
    "id": "1Ry4pEdSc0yh",
    "pycharm": {
     "name": "#%%\n"
    }
   },
   "execution_count": null,
   "outputs": []
  }
 ]
}