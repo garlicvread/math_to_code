{
 "nbformat": 4,
 "nbformat_minor": 0,
 "metadata": {
  "colab": {
   "name": "03_graph_for_linear_functions.ipynb",
   "provenance": [],
   "collapsed_sections": [],
   "authorship_tag": "ABX9TyOgJbUBBYjpDeK21orcCEGA"
  },
  "kernelspec": {
   "name": "python3",
   "display_name": "Python 3"
  },
  "language_info": {
   "name": "python"
  }
 },
 "cells": [
  {
   "cell_type": "markdown",
   "source": [
    "## Linear function\n",
    "A function is a linear function when the function is of only one variable. It is of the form\n",
    "\n",
    "$$ f(x) = ax + b $$\n",
    "\n",
    "where a and b are constants and ***a≠0***.\n",
    "\n",
    "<br>\n",
    "\n",
    "The linear function here gets 4 elements to generate a graph.\n",
    "\n",
    "- **a** and **b** are equal to the **a** and **b** from the function\n",
    "$$y = ax + b$$<br>\n",
    "\n",
    "\n",
    "- **dist** means the distance between two points. The default value of **dist** is 1.<br>\n",
    "\n",
    "- **size** is the size of graph of generation. The default value of **size** is 100.<br><br>\n",
    "\n",
    "\n",
    "You can code linear function graph with `while` loop.\n",
    "\n",
    "- When the ***x*** coordinates is given, you can calculate the ***y*** coordinates via the linear function.<br>\n",
    "\n",
    "- After declaration the ***x*** coordinates as the minimum value of the graph, and increase the value of ***x*** by the amount of ***dist***, then store the corresponding ***y*** value.<br>\n",
    "\n",
    "- When the value of ***x*** coordinates exceeds the maximum range of te graph, break the while loop."
   ],
   "metadata": {
    "id": "IGEewB-LoTr4",
    "pycharm": {
     "name": "#%% md\n"
    }
   }
  },
  {
   "cell_type": "code",
   "execution_count": 1,
   "metadata": {
    "colab": {
     "base_uri": "https://localhost:8080/",
     "height": 269
    },
    "id": "BbBxuEGOn845",
    "executionInfo": {
     "status": "ok",
     "timestamp": 1639645323381,
     "user_tz": -540,
     "elapsed": 441,
     "user": {
      "displayName": "Raymond Kim",
      "photoUrl": "https://lh3.googleusercontent.com/a-/AOh14GhN72GJ2Ox5W0H1ZDxI2DB8O1gyJ2m7QyW4biwVhQ=s64",
      "userId": "14271554280568771964"
     }
    },
    "outputId": "8763b4b5-1c36-4a10-c359-dad84da5ef62",
    "pycharm": {
     "name": "#%%\n"
    }
   },
   "outputs": [
    {
     "data": {
      "text/plain": "<Figure size 640x480 with 1 Axes>",
      "image/png": "[encoded data removed]"
     },
     "metadata": {},
     "output_type": "display_data"
    }
   ],
   "source": [
    "from matplotlib import pyplot as plt\n",
    "\n",
    "\"\"\"\n",
    "### Code from others ###\n",
    "\n",
    "class LinearEquation:\n",
    "    def __init__(self, a, b, dist=1, size=100): \n",
    "        self.size = size \n",
    "        self.xs = [] \n",
    "        self.ys = [] \n",
    "\n",
    "        x = -size\n",
    "\n",
    "        while True:\n",
    "            self.xs.append(x)\n",
    "            self.ys.append((a * x) + b)\n",
    "            x += dist\n",
    "            if x > size:\n",
    "                break\n",
    "\"\"\"\n",
    "\n",
    "\n",
    "class LinearEquation:\n",
    "    def __init__(self, a, b, dist=1, size=100):  # a, b gets a, b from the linear function.\n",
    "        self.a = a\n",
    "        self.b = b\n",
    "        self.dist = dist\n",
    "\n",
    "        # Initiation of the graph size.\n",
    "        # When there is no parameter, the default size will be 100.\n",
    "        self.size = size\n",
    "\n",
    "        # Make lists to contain x and y coordinates.\n",
    "        self.xs = []\n",
    "        self.ys = []\n",
    "\n",
    "        # Initiate x as the minimum value of x-axis.\n",
    "        x = -size\n",
    "\n",
    "        # Declare the LinearEquation function.\n",
    "        # 1. Increase the x value by the value of dist until it becomes a positive number.\n",
    "        #    Store x value and y value to the list declared above.\n",
    "        while x < size:\n",
    "            y = self.a*x + self.b\n",
    "            x = x+dist\n",
    "            self.xs.append(x)\n",
    "            self.ys.append(y)\n",
    "\n",
    "    def show_graph(self):\n",
    "        plt.grid(True)\n",
    "        axes = plt.gca()\n",
    "        axes.set_xlim([-self.size, self.size])\n",
    "        axes.set_ylim([-self.size, self.size])\n",
    "        plt.plot(self.xs, self.ys, '.')\n",
    "        plt.show()\n",
    "\n",
    "\n",
    "# 2. Generate a linear function which a = 2/3, b = 2 , dist = 0.1, size = 4 then print the graph.\n",
    "LinearEquation(a=2/3, b=2, dist=0.1, size=4).show_graph()\n"
   ]
  },
  {
   "cell_type": "code",
   "source": [
    "from matplotlib import pyplot as plt\n",
    "\n",
    "\n",
    "class LinearEquation:\n",
    "    def __init__(self, a, b, dist=1, size=100):\n",
    "        self.size = size\n",
    "        self.xs = []\n",
    "        self.ys = []\n",
    "\n",
    "        x = -size\n",
    "\n",
    "        while True:\n",
    "            self.xs.append(x)\n",
    "            self.ys.append((a * x) + b)\n",
    "            x += dist\n",
    "            if x > size:\n",
    "                break\n",
    "\n",
    "    def show_graph(self):\n",
    "        plt.grid(True)\n",
    "        axes = plt.gca()\n",
    "        axes.set_xlim([-self.size, self.size])\n",
    "        axes.set_ylim([-self.size, self.size])\n",
    "        plt.plot(self.xs, self.ys, '.')\n",
    "\n",
    "\n",
    "# Draw a linear function y = 2x + 3\n",
    "LinearEquation(2, 3, 0.1, 3).show_graph()"
   ],
   "metadata": {
    "id": "pg2_gYPbS7AN",
    "pycharm": {
     "name": "#%%\n"
    }
   },
   "execution_count": 2,
   "outputs": [
    {
     "data": {
      "text/plain": "<Figure size 640x480 with 1 Axes>",
      "image/png": "[encoded data removed]"
     },
     "metadata": {},
     "output_type": "display_data"
    }
   ]
  },
  {
   "cell_type": "code",
   "execution_count": null,
   "outputs": [],
   "source": [],
   "metadata": {
    "collapsed": false,
    "pycharm": {
     "name": "#%%\n"
    }
   }
  }
 ]
}