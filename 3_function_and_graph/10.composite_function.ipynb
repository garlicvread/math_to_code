{
 "cells": [
  {
   "cell_type": "markdown",
   "source": [
    "## Function composition\n",
    "\n",
    "Function composition is an operation `∘` that takes two functions ***f*** and ***g***,\n",
    "and produces a function $ h = g ∘ f $ such that $ h(x) = g(f(x)) $.\n",
    "\n",
    "For the following functions $ f(x) = x^3 + 1 $ and $ g(x) = \\sqrt{x+2} $, calculate $ (g ∘ f)(2) $, $ (f ∘ g)(2) $, $ (g ∘ g)(2) $ then return the results."
   ],
   "metadata": {
    "collapsed": false,
    "pycharm": {
     "name": "#%% md\n"
    }
   }
  },
  {
   "cell_type": "code",
   "execution_count": 1,
   "metadata": {
    "collapsed": true,
    "pycharm": {
     "name": "#%%\n"
    }
   },
   "outputs": [
    {
     "name": "stdout",
     "output_type": "stream",
     "text": [
      "(g • f)(2) = 3.3166247903554\n",
      "(f • g)(2) = 9.0\n",
      "(g • g)(2) = 2.0\n"
     ]
    }
   ],
   "source": [
    "import numpy as np\n",
    "import math\n",
    "\n",
    "# f(x) = x^3 + 1\n",
    "def f(x):\n",
    "    return math.pow(x, 3) + 1\n",
    "\n",
    "# g(x) = sqrt(x + 2)\n",
    "def g(x):\n",
    "    return np.sqrt(x+2)\n",
    "\n",
    "print(f\"(g • f)(2) =\", g(f(2)))\n",
    "print(f\"(f • g)(2) =\", f(g(2)))\n",
    "print(f\"(g • g)(2) =\", g(g(2)))"
   ]
  },
  {
   "cell_type": "code",
   "execution_count": null,
   "outputs": [],
   "source": [],
   "metadata": {
    "collapsed": false,
    "pycharm": {
     "name": "#%%\n"
    }
   }
  }
 ],
 "metadata": {
  "kernelspec": {
   "display_name": "Python 3",
   "language": "python",
   "name": "python3"
  },
  "language_info": {
   "codemirror_mode": {
    "name": "ipython",
    "version": 2
   },
   "file_extension": ".py",
   "mimetype": "text/x-python",
   "name": "python",
   "nbconvert_exporter": "python",
   "pygments_lexer": "ipython2",
   "version": "2.7.6"
  }
 },
 "nbformat": 4,
 "nbformat_minor": 0
}